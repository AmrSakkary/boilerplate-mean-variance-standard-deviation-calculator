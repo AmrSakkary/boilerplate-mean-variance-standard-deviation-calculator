{
 "cells": [
  {
   "cell_type": "raw",
   "id": "6595ae70-47d6-433d-ab1e-7deed91729c6",
   "metadata": {},
   "source": [
    "If a list containing less than 9 elements is passed into the function, it should raise a `ValueError` exception with the message: \"List must contain nine numbers.\" The values in the returned dictionary should be lists and not Numpy arrays.\n",
    "\n",
    "For example, `calculate([0,1,2,3,4,5,6,7,8])` should return:\n",
    "```py\n",
    "{\n",
    "  'mean': [[3.0, 4.0, 5.0], [1.0, 4.0, 7.0], 4.0], \n",
    "  'variance': [[6.0, 6.0, 6.0], [0.6666666666666666, 0.6666666666666666, 0.6666666666666666], 6.666666666666667], \n",
    "  'standard deviation': [[2.449489742783178, 2.449489742783178, 2.449489742783178], [0.816496580927726, 0.816496580927726, 0.816496580927726], 2.581988897471611],\n",
    "  'max': [[6, 7, 8], [2, 5, 8], 8],\n",
    "  'min': [[0, 1, 2], [0, 3, 6], 0],\n",
    "  'sum': [[9, 12, 15], [3, 12, 21], 36]\n",
    "}\n",
    "```"
   ]
  },
  {
   "cell_type": "code",
   "execution_count": 1,
   "id": "1c03a2b5-3b47-4f38-a476-70419e53b120",
   "metadata": {},
   "outputs": [],
   "source": [
    "import numpy as np"
   ]
  },
  {
   "cell_type": "code",
   "execution_count": 43,
   "id": "a8fc2037-1e44-40d0-9e05-c632a05d2eed",
   "metadata": {
    "tags": []
   },
   "outputs": [],
   "source": [
    "# the error\n",
    "def error1():\n",
    "    # defining an error to raise \n",
    "    raise ValueError('List must contain nine numbers.')\n",
    "def error2():\n",
    "    # defining an error to raise \n",
    "    raise ValueError('cannot reshape array of size 7 into shape (3,3)')"
   ]
  },
  {
   "cell_type": "code",
   "execution_count": 267,
   "id": "88ed67f9-01e2-4152-a0f5-4c4f2f79d274",
   "metadata": {},
   "outputs": [],
   "source": [
    "def calculate(input_list):\n",
    "    # final output dictionary \n",
    "    final_output= {}\n",
    "    \n",
    "    # Making an exception for the list if it is less or more than 9 numbers raise a ValueError\n",
    "    # try:\n",
    "    #     if len(input_list) != 9:\n",
    "    #         error()\n",
    "    # except ValueError:\n",
    "    #     print('List must contain nine numbers.')\n",
    "    #     return None\n",
    "    # Reshaping the list into 3x3 array\n",
    "    \n",
    "    try:\n",
    "        target_array = np.reshape(input_list, (3,3))\n",
    "    except ValueError:\n",
    "        print('List must contain nine numbers.')\n",
    "    # target_array = np.reshape(input_list, (3,3))\n",
    "    target_array = np.reshape(input_list, (3,3))\n",
    "    \n",
    "    # Calculating the mean for the target axis in the array \n",
    "    # Vertical axis mean\n",
    "    v_mean = [float(np.mean(target_array[0:,0:1])), float(np.mean(target_array[0:,1:2])), float(np.mean(target_array[0:,2:3]))]\n",
    "    # Horizontal axis mean\n",
    "    h_mean = [float(np.mean(target_array[0])), float(np.mean(target_array[1])), float(np.mean(target_array[2]))]\n",
    "    # The mean of all numbers in the array\n",
    "    t_mean = float(np.mean(target_array))\n",
    "    # adding the calculation of mean to the final dictionary\n",
    "    final_output['mean'] = [v_mean, h_mean, t_mean]\n",
    "    \n",
    "    # Vertical axis variance\n",
    "    v_var = [float(np.var(target_array[0:,0:1])), float(np.var(target_array[0:,1:2])), float(np.var(target_array[0:,2:3]))]\n",
    "    # Horizontal axis variance\n",
    "    h_var = [float(np.var(target_array[0])), float(np.var(target_array[1])), float(np.var(target_array[2]))]\n",
    "    # The variance of all numbers in the array       \n",
    "    t_var = float(np.var(target_array))\n",
    "    # Adding the calculation of variance to the final dictionary\n",
    "    final_output['variance'] = [v_var, h_var, t_var]\n",
    "    \n",
    "    # Vertical Standard Deviation\n",
    "    v_std = [float(np.std(target_array[0:,0:1])), float(np.std(target_array[0:,1:2])), float(np.std(target_array[0:,2:3]))]\n",
    "    # Horizontal Standard Deviation\n",
    "    h_std = [float(np.std(target_array[0])), float(np.std(target_array[1])), float(np.std(target_array[2]))]\n",
    "    # The standard deviation of all numbers in the array      \n",
    "    t_std = float(np.std(target_array))\n",
    "     # Adding the calculation of Standard Deviation to the final dictionary\n",
    "    final_output['standard deviation'] = [v_std, h_std, t_std]    \n",
    "    \n",
    "    # Vertical axis max valus \n",
    "    v_max = [int(np.max(target_array[0:,0:1])), int(np.max(target_array[0:,1:2])), int(np.max(target_array[0:,2:3]))]\n",
    "    # Horizontal axis max valus \n",
    "    h_max = [int(np.max(target_array[0])), int(np.max(target_array[1])), int(np.max(target_array[2]))]\n",
    "    # The max value of all numbers in the array      \n",
    "    t_max = int(np.max(target_array))\n",
    "    # Adding the calculation of Max values to the final dictionary\n",
    "    final_output['max'] = [v_max, h_max, t_max]\n",
    "    \n",
    "    # Vertical axis min value \n",
    "    v_min = [int(np.min(target_array[0:,0:1])), int(np.min(target_array[0:,1:2])), int(np.min(target_array[0:,2:3]))]\n",
    "    # Horizontal axis min value \n",
    "    h_min = [int(np.min(target_array[0])), int(np.min(target_array[1])), int(np.min(target_array[2]))]\n",
    "    # The min value of all numbers in the array  \n",
    "    t_min = int(np.min(target_array))\n",
    "    # Adding the calculation of Min values to the final dictionary\n",
    "    final_output['min'] = [v_min, h_min, t_min]\n",
    "    \n",
    "    # vertical summation\n",
    "    v_sum = [int(np.sum(target_array[0:,0:1])), int(np.sum(target_array[0:,1:2])), int(np.sum(target_array[0:,2:3]))]\n",
    "    # horizontal summation\n",
    "    h_sum = [int(np.sum(target_array[0])), int(np.sum(target_array[1])), int(np.sum(target_array[2]))]\n",
    "    # The sum of all numbers in the array \n",
    "    t_sum = int(np.sum(target_array))\n",
    "    # Adding the summition values to the final dictionary\n",
    "    final_output['sum'] = [v_sum, h_sum, t_sum]\n",
    "    \n",
    "    # Calculation output  \n",
    "    return final_output"
   ]
  },
  {
   "cell_type": "code",
   "execution_count": 268,
   "id": "491dae05-7e63-4fe6-a8b3-3310269466a9",
   "metadata": {},
   "outputs": [
    {
     "name": "stdout",
     "output_type": "stream",
     "text": [
      "List must contain nine numbers.\n"
     ]
    },
    {
     "ename": "ValueError",
     "evalue": "cannot reshape array of size 8 into shape (3,3)",
     "output_type": "error",
     "traceback": [
      "\u001b[1;31m------------------------------------------------------------------\u001b[0m",
      "\u001b[1;31mValueError\u001b[0m                       Traceback (most recent call last)",
      "\u001b[1;32m~\\AppData\\Local\\Temp/ipykernel_10508/3015319910.py\u001b[0m in \u001b[0;36m<module>\u001b[1;34m\u001b[0m\n\u001b[0;32m      1\u001b[0m \u001b[1;31m# test\u001b[0m\u001b[1;33m\u001b[0m\u001b[1;33m\u001b[0m\u001b[1;33m\u001b[0m\u001b[0m\n\u001b[1;32m----> 2\u001b[1;33m \u001b[0mcalculate\u001b[0m\u001b[1;33m(\u001b[0m\u001b[1;33m[\u001b[0m\u001b[1;36m2\u001b[0m\u001b[1;33m,\u001b[0m\u001b[1;36m6\u001b[0m\u001b[1;33m,\u001b[0m\u001b[1;36m2\u001b[0m\u001b[1;33m,\u001b[0m\u001b[1;36m8\u001b[0m\u001b[1;33m,\u001b[0m\u001b[1;36m4\u001b[0m\u001b[1;33m,\u001b[0m\u001b[1;36m0\u001b[0m\u001b[1;33m,\u001b[0m\u001b[1;36m1\u001b[0m\u001b[1;33m,\u001b[0m\u001b[1;36m1\u001b[0m\u001b[1;33m]\u001b[0m\u001b[1;33m)\u001b[0m\u001b[1;33m\u001b[0m\u001b[1;33m\u001b[0m\u001b[0m\n\u001b[0m",
      "\u001b[1;32m~\\AppData\\Local\\Temp/ipykernel_10508/4117468729.py\u001b[0m in \u001b[0;36mcalculate\u001b[1;34m(input_list)\u001b[0m\n\u001b[0;32m     17\u001b[0m         \u001b[0mprint\u001b[0m\u001b[1;33m(\u001b[0m\u001b[1;34m'List must contain nine numbers.'\u001b[0m\u001b[1;33m)\u001b[0m\u001b[1;33m\u001b[0m\u001b[1;33m\u001b[0m\u001b[0m\n\u001b[0;32m     18\u001b[0m     \u001b[1;31m# target_array = np.reshape(input_list, (3,3))\u001b[0m\u001b[1;33m\u001b[0m\u001b[1;33m\u001b[0m\u001b[1;33m\u001b[0m\u001b[0m\n\u001b[1;32m---> 19\u001b[1;33m     \u001b[0mtarget_array\u001b[0m \u001b[1;33m=\u001b[0m \u001b[0mnp\u001b[0m\u001b[1;33m.\u001b[0m\u001b[0mreshape\u001b[0m\u001b[1;33m(\u001b[0m\u001b[0minput_list\u001b[0m\u001b[1;33m,\u001b[0m \u001b[1;33m(\u001b[0m\u001b[1;36m3\u001b[0m\u001b[1;33m,\u001b[0m\u001b[1;36m3\u001b[0m\u001b[1;33m)\u001b[0m\u001b[1;33m)\u001b[0m\u001b[1;33m\u001b[0m\u001b[1;33m\u001b[0m\u001b[0m\n\u001b[0m\u001b[0;32m     20\u001b[0m \u001b[1;33m\u001b[0m\u001b[0m\n\u001b[0;32m     21\u001b[0m     \u001b[1;31m# Calculating the mean for the target axis in the array\u001b[0m\u001b[1;33m\u001b[0m\u001b[1;33m\u001b[0m\u001b[1;33m\u001b[0m\u001b[0m\n",
      "\u001b[1;32m<__array_function__ internals>\u001b[0m in \u001b[0;36mreshape\u001b[1;34m(*args, **kwargs)\u001b[0m\n",
      "\u001b[1;32mE:\\udacity\\anac\\lib\\site-packages\\numpy\\core\\fromnumeric.py\u001b[0m in \u001b[0;36mreshape\u001b[1;34m(a, newshape, order)\u001b[0m\n\u001b[0;32m    297\u001b[0m            [5, 6]])\n\u001b[0;32m    298\u001b[0m     \"\"\"\n\u001b[1;32m--> 299\u001b[1;33m     \u001b[1;32mreturn\u001b[0m \u001b[0m_wrapfunc\u001b[0m\u001b[1;33m(\u001b[0m\u001b[0ma\u001b[0m\u001b[1;33m,\u001b[0m \u001b[1;34m'reshape'\u001b[0m\u001b[1;33m,\u001b[0m \u001b[0mnewshape\u001b[0m\u001b[1;33m,\u001b[0m \u001b[0morder\u001b[0m\u001b[1;33m=\u001b[0m\u001b[0morder\u001b[0m\u001b[1;33m)\u001b[0m\u001b[1;33m\u001b[0m\u001b[1;33m\u001b[0m\u001b[0m\n\u001b[0m\u001b[0;32m    300\u001b[0m \u001b[1;33m\u001b[0m\u001b[0m\n\u001b[0;32m    301\u001b[0m \u001b[1;33m\u001b[0m\u001b[0m\n",
      "\u001b[1;32mE:\\udacity\\anac\\lib\\site-packages\\numpy\\core\\fromnumeric.py\u001b[0m in \u001b[0;36m_wrapfunc\u001b[1;34m(obj, method, *args, **kwds)\u001b[0m\n\u001b[0;32m     53\u001b[0m     \u001b[0mbound\u001b[0m \u001b[1;33m=\u001b[0m \u001b[0mgetattr\u001b[0m\u001b[1;33m(\u001b[0m\u001b[0mobj\u001b[0m\u001b[1;33m,\u001b[0m \u001b[0mmethod\u001b[0m\u001b[1;33m,\u001b[0m \u001b[1;32mNone\u001b[0m\u001b[1;33m)\u001b[0m\u001b[1;33m\u001b[0m\u001b[1;33m\u001b[0m\u001b[0m\n\u001b[0;32m     54\u001b[0m     \u001b[1;32mif\u001b[0m \u001b[0mbound\u001b[0m \u001b[1;32mis\u001b[0m \u001b[1;32mNone\u001b[0m\u001b[1;33m:\u001b[0m\u001b[1;33m\u001b[0m\u001b[1;33m\u001b[0m\u001b[0m\n\u001b[1;32m---> 55\u001b[1;33m         \u001b[1;32mreturn\u001b[0m \u001b[0m_wrapit\u001b[0m\u001b[1;33m(\u001b[0m\u001b[0mobj\u001b[0m\u001b[1;33m,\u001b[0m \u001b[0mmethod\u001b[0m\u001b[1;33m,\u001b[0m \u001b[1;33m*\u001b[0m\u001b[0margs\u001b[0m\u001b[1;33m,\u001b[0m \u001b[1;33m**\u001b[0m\u001b[0mkwds\u001b[0m\u001b[1;33m)\u001b[0m\u001b[1;33m\u001b[0m\u001b[1;33m\u001b[0m\u001b[0m\n\u001b[0m\u001b[0;32m     56\u001b[0m \u001b[1;33m\u001b[0m\u001b[0m\n\u001b[0;32m     57\u001b[0m     \u001b[1;32mtry\u001b[0m\u001b[1;33m:\u001b[0m\u001b[1;33m\u001b[0m\u001b[1;33m\u001b[0m\u001b[0m\n",
      "\u001b[1;32mE:\\udacity\\anac\\lib\\site-packages\\numpy\\core\\fromnumeric.py\u001b[0m in \u001b[0;36m_wrapit\u001b[1;34m(obj, method, *args, **kwds)\u001b[0m\n\u001b[0;32m     42\u001b[0m     \u001b[1;32mexcept\u001b[0m \u001b[0mAttributeError\u001b[0m\u001b[1;33m:\u001b[0m\u001b[1;33m\u001b[0m\u001b[1;33m\u001b[0m\u001b[0m\n\u001b[0;32m     43\u001b[0m         \u001b[0mwrap\u001b[0m \u001b[1;33m=\u001b[0m \u001b[1;32mNone\u001b[0m\u001b[1;33m\u001b[0m\u001b[1;33m\u001b[0m\u001b[0m\n\u001b[1;32m---> 44\u001b[1;33m     \u001b[0mresult\u001b[0m \u001b[1;33m=\u001b[0m \u001b[0mgetattr\u001b[0m\u001b[1;33m(\u001b[0m\u001b[0masarray\u001b[0m\u001b[1;33m(\u001b[0m\u001b[0mobj\u001b[0m\u001b[1;33m)\u001b[0m\u001b[1;33m,\u001b[0m \u001b[0mmethod\u001b[0m\u001b[1;33m)\u001b[0m\u001b[1;33m(\u001b[0m\u001b[1;33m*\u001b[0m\u001b[0margs\u001b[0m\u001b[1;33m,\u001b[0m \u001b[1;33m**\u001b[0m\u001b[0mkwds\u001b[0m\u001b[1;33m)\u001b[0m\u001b[1;33m\u001b[0m\u001b[1;33m\u001b[0m\u001b[0m\n\u001b[0m\u001b[0;32m     45\u001b[0m     \u001b[1;32mif\u001b[0m \u001b[0mwrap\u001b[0m\u001b[1;33m:\u001b[0m\u001b[1;33m\u001b[0m\u001b[1;33m\u001b[0m\u001b[0m\n\u001b[0;32m     46\u001b[0m         \u001b[1;32mif\u001b[0m \u001b[1;32mnot\u001b[0m \u001b[0misinstance\u001b[0m\u001b[1;33m(\u001b[0m\u001b[0mresult\u001b[0m\u001b[1;33m,\u001b[0m \u001b[0mmu\u001b[0m\u001b[1;33m.\u001b[0m\u001b[0mndarray\u001b[0m\u001b[1;33m)\u001b[0m\u001b[1;33m:\u001b[0m\u001b[1;33m\u001b[0m\u001b[1;33m\u001b[0m\u001b[0m\n",
      "\u001b[1;31mValueError\u001b[0m: cannot reshape array of size 8 into shape (3,3)"
     ]
    }
   ],
   "source": [
    "# test\n",
    "calculate([2,6,2,8,4,0,1,1])"
   ]
  },
  {
   "cell_type": "code",
   "execution_count": 222,
   "id": "2f26d57d-7ae5-4696-ad83-9641af830372",
   "metadata": {},
   "outputs": [],
   "source": [
    "import unittest\n",
    "# import mean_var_std\n",
    "class UnitTests(unittest.TestCase):\n",
    "    def test_calculate(self):\n",
    "        actual = calculate([2,6,2,8,4,0,1,5,7])\n",
    "        expected = {'mean': [[3.6666666666666665, 5.0, 3.0], [3.3333333333333335, 4.0, 4.333333333333333], 3.888888888888889],\n",
    "                    'variance': [[9.555555555555557, 0.6666666666666666, 8.666666666666666], [3.555555555555556, 10.666666666666666, 6.222222222222221], 6.987654320987654],\n",
    "                    'standard deviation': [[3.091206165165235, 0.816496580927726, 2.943920288775949], [1.8856180831641267, 3.265986323710904, 2.494438257849294], 2.6434171674156266],\n",
    "                    'max': [[8, 6, 7], [6, 8, 7], 8],\n",
    "                    'min': [[1, 4, 0], [2, 0, 1], 0], \n",
    "                    'sum': [[11, 15, 9], [10, 12, 13], 35]}\n",
    "        self.assertAlmostEqual(actual, expected, \"Expected different output when calling 'calculate()' with '[2,6,2,8,4,0,1,5,7]'\")\n",
    "\n",
    "    def test_calculate2(self):\n",
    "        actual = calculate([9,1,5,3,3,3,2,9,0])\n",
    "        expected = {'mean': [[4.666666666666667, 4.333333333333333, 2.6666666666666665], [5.0, 3.0, 3.6666666666666665], 3.888888888888889], 'variance': [[9.555555555555555, 11.555555555555557, 4.222222222222222], [10.666666666666666, 0.0, 14.888888888888891], 9.209876543209875], 'standard deviation': [[3.0912061651652345, 3.39934634239519, 2.0548046676563256], [3.265986323710904, 0.0, 3.8586123009300755], 3.0347778408328137], 'max': [[9, 9, 5], [9, 3, 9], 9], 'min': [[2, 1, 0], [1, 3, 0], 0], 'sum': [[14, 13, 8], [15, 9, 11], 35]}\n",
    "        self.assertAlmostEqual(actual, expected, \"Expected different output when calling 'calculate()' with '[9,1,5,3,3,3,2,9,0]'\")\n",
    "    \n",
    "    def test_calculate_with_few_digits(self):\n",
    "        self.assertRaisesRegex(ValueError, \"List must contain nine numbers.\", mean_var_std.calculate, [2,6,2,8,4,0,1,])"
   ]
  },
  {
   "cell_type": "code",
   "execution_count": null,
   "id": "49366434-5a12-430d-b86b-91ed46dccf28",
   "metadata": {},
   "outputs": [],
   "source": [
    "# validation function\n"
   ]
  },
  {
   "cell_type": "code",
   "execution_count": 257,
   "id": "f22c597e-926c-4ded-8293-deaa98825b2b",
   "metadata": {},
   "outputs": [],
   "source": [
    "# checking validation of the list\n",
    "def calculate(input_list):\n",
    "    # final output dictionary \n",
    "    final_output= {}\n",
    "    \n",
    "    # Making an exception for the list if it is less or more than 9 numbers raise a ValueError\n",
    "    try:\n",
    "        target_array = np.reshape(input_list, (3,3))\n",
    "    except ValueError:\n",
    "        print('List must contain nine numbers.')\n",
    "\n",
    "     "
   ]
  },
  {
   "cell_type": "code",
   "execution_count": 258,
   "id": "1744e3fb-8f47-49a6-ba23-762299ba9afd",
   "metadata": {},
   "outputs": [
    {
     "name": "stdout",
     "output_type": "stream",
     "text": [
      "List must contain nine numbers.\n"
     ]
    }
   ],
   "source": [
    "calculate([2,6,2,8,4,0,1,7,7,8])"
   ]
  },
  {
   "cell_type": "code",
   "execution_count": 246,
   "id": "726f276f-6937-4793-aa1a-e45a77da633b",
   "metadata": {},
   "outputs": [
    {
     "data": {
      "text/plain": [
       "7"
      ]
     },
     "execution_count": 246,
     "metadata": {},
     "output_type": "execute_result"
    }
   ],
   "source": [
    "len([2,6,2,8,4,0,1,])"
   ]
  },
  {
   "cell_type": "code",
   "execution_count": null,
   "id": "0a088c56-57bd-4cab-b781-a2d6a64469c6",
   "metadata": {},
   "outputs": [],
   "source": []
  },
  {
   "cell_type": "code",
   "execution_count": null,
   "id": "ff4b43ef-48d1-41f3-a851-d5be5e8886e7",
   "metadata": {},
   "outputs": [],
   "source": []
  },
  {
   "cell_type": "code",
   "execution_count": null,
   "id": "17ed7888-a3df-4add-ae0a-28e9a2245aa9",
   "metadata": {},
   "outputs": [],
   "source": []
  },
  {
   "cell_type": "code",
   "execution_count": null,
   "id": "595c8c9d-4551-4ed5-a483-6de01c621625",
   "metadata": {},
   "outputs": [],
   "source": []
  },
  {
   "cell_type": "code",
   "execution_count": 141,
   "id": "dda5bd8c-96df-44b4-85e9-21d5690f0f8b",
   "metadata": {},
   "outputs": [],
   "source": [
    "test_slice = np.array([[0, 1, 2],\n",
    "       [3, 4, 5],\n",
    "       [6, 7, 8]])"
   ]
  },
  {
   "cell_type": "code",
   "execution_count": 93,
   "id": "5f01770a-78d3-4178-bb79-64e65ef1cb2f",
   "metadata": {
    "tags": []
   },
   "outputs": [
    {
     "data": {
      "text/plain": [
       "(array([9]), array([9]), array([9]))"
      ]
     },
     "execution_count": 93,
     "metadata": {},
     "output_type": "execute_result"
    }
   ],
   "source": [
    "sum(test_slice[0:,1:2]),\\\n",
    "sum(test_slice[0:3,1:2]),\\\n",
    "sum(test_slice[0:3,1:2]),\\\n",
    "\n"
   ]
  },
  {
   "cell_type": "code",
   "execution_count": 108,
   "id": "e8fc0368-10c7-4a84-a9eb-a35a89bc74f0",
   "metadata": {},
   "outputs": [
    {
     "data": {
      "text/plain": [
       "(array([9]), array([12]), array([16]))"
      ]
     },
     "execution_count": 108,
     "metadata": {},
     "output_type": "execute_result"
    }
   ],
   "source": [
    "sum(test_slice[0:,0:1]), sum(test_slice[0:,1:2]), sum(test_slice[0:,2:3])"
   ]
  },
  {
   "cell_type": "code",
   "execution_count": 183,
   "id": "c8d254fe-4548-46d4-8a0d-5af3b7fc25a4",
   "metadata": {},
   "outputs": [],
   "source": [
    "dic= {}"
   ]
  },
  {
   "cell_type": "markdown",
   "id": "dc8c7177-50f5-46e2-8a7b-b3937c188283",
   "metadata": {},
   "source": [
    "# Mean"
   ]
  },
  {
   "cell_type": "code",
   "execution_count": 184,
   "id": "8ef168ab-1d6e-4f16-a3b2-466e40f1e259",
   "metadata": {},
   "outputs": [],
   "source": [
    "# vertical axis mean\n",
    "v_mean = [float(np.mean(test_slice[0:,0:1])), float(np.mean(test_slice[0:,1:2])), float(np.mean(test_slice[0:,2:3]))]\n",
    "# horizontal axis mean\n",
    "h_mean = [float(np.mean(test_slice[0])), float(np.mean(test_slice[1])), float(np.mean(test_slice[2]))]\n",
    "\n",
    "t_mean = float(np.mean(test_slice))"
   ]
  },
  {
   "cell_type": "code",
   "execution_count": 185,
   "id": "824ac1e2-6685-4052-9a40-eb10cafd6105",
   "metadata": {},
   "outputs": [
    {
     "data": {
      "text/plain": [
       "{'mean': [[3.0, 4.0, 5.0], [1.0, 4.0, 7.0], 4.0]}"
      ]
     },
     "execution_count": 185,
     "metadata": {},
     "output_type": "execute_result"
    }
   ],
   "source": [
    "dic['mean'] = [v_mean, h_mean, t_mean]\n",
    "dic"
   ]
  },
  {
   "cell_type": "markdown",
   "id": "3b60b5ba-3d43-4f22-91e2-32dd16929ca9",
   "metadata": {
    "tags": []
   },
   "source": [
    "# Variance "
   ]
  },
  {
   "cell_type": "code",
   "execution_count": 186,
   "id": "35416e99-c9c8-4f3d-bd87-dcb75c851272",
   "metadata": {},
   "outputs": [],
   "source": [
    "# vertical axis variance\n",
    "v_var = [float(np.var(test_slice[0:,0:1])), float(np.var(test_slice[0:,1:2])), float(np.var(test_slice[0:,2:3]))]\n",
    "# horizontal axis variance\n",
    "h_var = [float(np.var(test_slice[0])), float(np.var(test_slice[1])), float(np.var(test_slice[2]))]\n",
    "\n",
    "t_var = float(np.var(test_slice))"
   ]
  },
  {
   "cell_type": "code",
   "execution_count": 187,
   "id": "3ef7f5f9-87f5-4967-a97a-bc0cb6485935",
   "metadata": {},
   "outputs": [
    {
     "data": {
      "text/plain": [
       "{'mean': [[3.0, 4.0, 5.0], [1.0, 4.0, 7.0], 4.0],\n",
       " 'variance': [[6.0, 6.0, 6.0],\n",
       "  [0.6666666666666666, 0.6666666666666666, 0.6666666666666666],\n",
       "  6.666666666666667]}"
      ]
     },
     "execution_count": 187,
     "metadata": {},
     "output_type": "execute_result"
    }
   ],
   "source": [
    "dic['variance'] = [v_var, h_var, t_var]\n",
    "dic"
   ]
  },
  {
   "cell_type": "markdown",
   "id": "f98b479e-7ab3-4b61-8a3d-88d4b4245495",
   "metadata": {
    "tags": []
   },
   "source": [
    "# STD"
   ]
  },
  {
   "cell_type": "code",
   "execution_count": 188,
   "id": "ace72098-b535-4467-bb04-c0fea8d57261",
   "metadata": {},
   "outputs": [],
   "source": [
    "# vertical Standard Deviation\n",
    "v_std = [float(np.std(test_slice[0:,0:1])), float(np.std(test_slice[0:,1:2])), float(np.std(test_slice[0:,2:3]))]\n",
    "# horizontal Standard Deviation\n",
    "h_std = [float(np.std(test_slice[0])), float(np.std(test_slice[1])), float(np.std(test_slice[2]))]\n",
    "\n",
    "t_std = float(np.std(test_slice))"
   ]
  },
  {
   "cell_type": "code",
   "execution_count": 189,
   "id": "5c02da0c-20e1-4051-bda6-202ac58071a6",
   "metadata": {},
   "outputs": [],
   "source": [
    "dic['standard deviation'] = [v_std, h_std, t_std]"
   ]
  },
  {
   "cell_type": "code",
   "execution_count": 190,
   "id": "4e329687-058a-4a2f-a615-8638d2763974",
   "metadata": {},
   "outputs": [
    {
     "data": {
      "text/plain": [
       "{'mean': [[3.0, 4.0, 5.0], [1.0, 4.0, 7.0], 4.0],\n",
       " 'variance': [[6.0, 6.0, 6.0],\n",
       "  [0.6666666666666666, 0.6666666666666666, 0.6666666666666666],\n",
       "  6.666666666666667],\n",
       " 'standard deviation': [[2.449489742783178,\n",
       "   2.449489742783178,\n",
       "   2.449489742783178],\n",
       "  [0.816496580927726, 0.816496580927726, 0.816496580927726],\n",
       "  2.581988897471611]}"
      ]
     },
     "execution_count": 190,
     "metadata": {},
     "output_type": "execute_result"
    }
   ],
   "source": [
    "dic"
   ]
  },
  {
   "cell_type": "markdown",
   "id": "e9a2f214-e06b-424f-9455-d0bef82c72cf",
   "metadata": {},
   "source": [
    "# Max"
   ]
  },
  {
   "cell_type": "code",
   "execution_count": 191,
   "id": "30eb655b-417b-4377-a752-dae23d5b39c8",
   "metadata": {},
   "outputs": [],
   "source": [
    "# Vertical axis max valus \n",
    "v_max = [int(np.max(test_slice[0:,0:1])), int(np.max(test_slice[0:,1:2])), int(np.max(test_slice[0:,2:3]))]\n",
    "# Horizontal axis max valus \n",
    "h_max = [int(np.max(test_slice[0])), int(np.max(test_slice[1])), int(np.max(test_slice[2]))]\n",
    "\n",
    "t_max = int(np.max(test_slice))"
   ]
  },
  {
   "cell_type": "code",
   "execution_count": 192,
   "id": "c44fa3cd-a9de-4fc6-abf6-e96c83dc14cd",
   "metadata": {},
   "outputs": [
    {
     "data": {
      "text/plain": [
       "{'mean': [[3.0, 4.0, 5.0], [1.0, 4.0, 7.0], 4.0],\n",
       " 'variance': [[6.0, 6.0, 6.0],\n",
       "  [0.6666666666666666, 0.6666666666666666, 0.6666666666666666],\n",
       "  6.666666666666667],\n",
       " 'standard deviation': [[2.449489742783178,\n",
       "   2.449489742783178,\n",
       "   2.449489742783178],\n",
       "  [0.816496580927726, 0.816496580927726, 0.816496580927726],\n",
       "  2.581988897471611],\n",
       " 'max': [[6, 7, 8], [2, 5, 8], 8]}"
      ]
     },
     "execution_count": 192,
     "metadata": {},
     "output_type": "execute_result"
    }
   ],
   "source": [
    "dic['max'] = [v_max, h_max, t_max]\n",
    "dic"
   ]
  },
  {
   "cell_type": "markdown",
   "id": "1fbc5b19-d015-4478-b1a0-35847a4b6878",
   "metadata": {},
   "source": [
    "# Min"
   ]
  },
  {
   "cell_type": "code",
   "execution_count": 193,
   "id": "6401f6c2-3486-47ba-b76a-ffef570a02c9",
   "metadata": {},
   "outputs": [],
   "source": [
    "# vertical Standard Deviation\n",
    "v_min = [int(np.min(test_slice[0:,0:1])), int(np.min(test_slice[0:,1:2])), int(np.min(test_slice[0:,2:3]))]\n",
    "# horizontal Standard Deviation\n",
    "h_min = [int(np.min(test_slice[0])), int(np.min(test_slice[1])), int(np.min(test_slice[2]))]\n",
    "\n",
    "t_min = int(np.min(test_slice))"
   ]
  },
  {
   "cell_type": "code",
   "execution_count": 194,
   "id": "987bf6d0-126f-46bf-bb90-4b312b8aede0",
   "metadata": {},
   "outputs": [
    {
     "data": {
      "text/plain": [
       "{'mean': [[3.0, 4.0, 5.0], [1.0, 4.0, 7.0], 4.0],\n",
       " 'variance': [[6.0, 6.0, 6.0],\n",
       "  [0.6666666666666666, 0.6666666666666666, 0.6666666666666666],\n",
       "  6.666666666666667],\n",
       " 'standard deviation': [[2.449489742783178,\n",
       "   2.449489742783178,\n",
       "   2.449489742783178],\n",
       "  [0.816496580927726, 0.816496580927726, 0.816496580927726],\n",
       "  2.581988897471611],\n",
       " 'max': [[6, 7, 8], [2, 5, 8], 8],\n",
       " 'min': [[0, 1, 2], [0, 3, 6], 0]}"
      ]
     },
     "execution_count": 194,
     "metadata": {},
     "output_type": "execute_result"
    }
   ],
   "source": [
    "dic['min'] = [v_min, h_min, t_min]\n",
    "dic"
   ]
  },
  {
   "cell_type": "markdown",
   "id": "7d9681a1-e77f-4569-9bb6-e4b769f4df0b",
   "metadata": {
    "tags": []
   },
   "source": [
    "# sum"
   ]
  },
  {
   "cell_type": "code",
   "execution_count": 198,
   "id": "272c4087-8fbd-4dfc-a90e-703f591ace47",
   "metadata": {},
   "outputs": [],
   "source": [
    "# vertical summation\n",
    "v_sum = [int(np.sum(test_slice[0:,0:1])), int(np.sum(test_slice[0:,1:2])), int(np.sum(test_slice[0:,2:3]))]\n",
    "# horizontal summation\n",
    "h_sum = [int(np.sum(test_slice[0])), int(np.sum(test_slice[1])), int(np.sum(test_slice[2]))]\n",
    "h_sum\n",
    "t_sum = int(np.sum(test_slice))"
   ]
  },
  {
   "cell_type": "code",
   "execution_count": 199,
   "id": "9c3b3180-ba0c-431d-a391-9ce2522af97b",
   "metadata": {},
   "outputs": [],
   "source": [
    "dic['sum'] = [v_sum, h_sum, t_sum]"
   ]
  },
  {
   "cell_type": "code",
   "execution_count": 271,
   "id": "c7c10c55-027c-4a16-b3db-6a1c0a453838",
   "metadata": {},
   "outputs": [
    {
     "data": {
      "text/plain": [
       "{'mean': [[3.0, 4.0, 5.0], [1.0, 4.0, 7.0], 4.0],\n",
       " 'variance': [[6.0, 6.0, 6.0],\n",
       "  [0.6666666666666666, 0.6666666666666666, 0.6666666666666666],\n",
       "  6.666666666666667],\n",
       " 'standard deviation': [[2.449489742783178,\n",
       "   2.449489742783178,\n",
       "   2.449489742783178],\n",
       "  [0.816496580927726, 0.816496580927726, 0.816496580927726],\n",
       "  2.581988897471611],\n",
       " 'max': [[6, 7, 8], [2, 5, 8], 8],\n",
       " 'min': [[0, 1, 2], [0, 3, 6], 0],\n",
       " 'sum': [[9, 12, 15], [3, 12, 21], 36]}"
      ]
     },
     "execution_count": 271,
     "metadata": {},
     "output_type": "execute_result"
    }
   ],
   "source": [
    "dic"
   ]
  },
  {
   "cell_type": "code",
   "execution_count": 272,
   "id": "05da0f68-f05c-47f4-a8f6-1d20e20db78a",
   "metadata": {},
   "outputs": [
    {
     "data": {
      "text/plain": [
       "[3, 12, 21]"
      ]
     },
     "execution_count": 272,
     "metadata": {},
     "output_type": "execute_result"
    }
   ],
   "source": [
    "test_slice.sum(axis=1).tolist()"
   ]
  },
  {
   "cell_type": "code",
   "execution_count": 274,
   "id": "ce470101-5c2e-4964-b51a-c2e638a83052",
   "metadata": {},
   "outputs": [
    {
     "data": {
      "text/plain": [
       "36"
      ]
     },
     "execution_count": 274,
     "metadata": {},
     "output_type": "execute_result"
    }
   ],
   "source": [
    "np.sum(test_slice)"
   ]
  },
  {
   "cell_type": "code",
   "execution_count": 215,
   "id": "6be4e329-06d1-4fef-8524-805ecd9de808",
   "metadata": {},
   "outputs": [
    {
     "data": {
      "text/plain": [
       "4.2727272727272725"
      ]
     },
     "execution_count": 215,
     "metadata": {},
     "output_type": "execute_result"
    }
   ],
   "source": []
  },
  {
   "cell_type": "code",
   "execution_count": 256,
   "id": "4a6f7306-180d-40d9-ab7a-a4ad7d88f490",
   "metadata": {},
   "outputs": [
    {
     "ename": "ZeroDivisionError",
     "evalue": "division by zero",
     "output_type": "error",
     "traceback": [
      "\u001b[1;31m------------------------------------------------------------------\u001b[0m",
      "\u001b[1;31mZeroDivisionError\u001b[0m                Traceback (most recent call last)",
      "\u001b[1;32m~\\AppData\\Local\\Temp/ipykernel_10508/3253793089.py\u001b[0m in \u001b[0;36m<module>\u001b[1;34m\u001b[0m\n\u001b[0;32m      3\u001b[0m \u001b[1;31m# except:\u001b[0m\u001b[1;33m\u001b[0m\u001b[1;33m\u001b[0m\u001b[1;33m\u001b[0m\u001b[0m\n\u001b[0;32m      4\u001b[0m \u001b[1;31m#     print('bad thing happened')\u001b[0m\u001b[1;33m\u001b[0m\u001b[1;33m\u001b[0m\u001b[1;33m\u001b[0m\u001b[0m\n\u001b[1;32m----> 5\u001b[1;33m \u001b[0mprint\u001b[0m\u001b[1;33m(\u001b[0m\u001b[1;36m1\u001b[0m\u001b[1;33m/\u001b[0m\u001b[1;36m0\u001b[0m\u001b[1;33m)\u001b[0m\u001b[1;33m\u001b[0m\u001b[1;33m\u001b[0m\u001b[0m\n\u001b[0m\u001b[0;32m      6\u001b[0m \u001b[0mprint\u001b[0m\u001b[1;33m(\u001b[0m\u001b[1;34m'we are here now'\u001b[0m\u001b[1;33m)\u001b[0m\u001b[1;33m\u001b[0m\u001b[1;33m\u001b[0m\u001b[0m\n",
      "\u001b[1;31mZeroDivisionError\u001b[0m: division by zero"
     ]
    }
   ],
   "source": [
    "try:\n",
    "    print(1/0)\n",
    "except:\n",
    "    print('bad thing happened')\n",
    "print(1/0)\n",
    "print('we are here now')"
   ]
  },
  {
   "cell_type": "code",
   "execution_count": null,
   "id": "6ee57f4e-13fb-495d-a3ad-b051c03ffc36",
   "metadata": {},
   "outputs": [],
   "source": [
    "np.mean(target_array[0:,0:1]"
   ]
  }
 ],
 "metadata": {
  "kernelspec": {
   "display_name": "Python 3 (ipykernel)",
   "language": "python",
   "name": "python3"
  },
  "language_info": {
   "codemirror_mode": {
    "name": "ipython",
    "version": 3
   },
   "file_extension": ".py",
   "mimetype": "text/x-python",
   "name": "python",
   "nbconvert_exporter": "python",
   "pygments_lexer": "ipython3",
   "version": "3.7.11"
  }
 },
 "nbformat": 4,
 "nbformat_minor": 5
}
